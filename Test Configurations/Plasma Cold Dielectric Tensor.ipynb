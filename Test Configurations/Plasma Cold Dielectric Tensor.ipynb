{
 "cells": [
  {
   "cell_type": "markdown",
   "metadata": {},
   "source": [
    "The cold plasma dielectric tensor is defined as :\n",
    "$$\n",
    "\\mathbf{K}\n",
    "=\n",
    "\\left(\n",
    "\\begin{array}{ccc}\n",
    "S & j D & 0 \\\\\n",
    "-j D & S & 0 \\\\\n",
    "0 & 0 & P\n",
    "\\end{array}\n",
    "\\right)\n",
    "$$\n",
    "where\n",
    "$$\n",
    "\\begin{eqnarray}\n",
    "S &=& 1 - \\sum_s \\frac{\\omega_{p,s}^2}{\\omega^2 - \\Omega_{c,s}^2} \\\\\n",
    "D &=& \\sum_s \\frac{\\Omega_{c,s}}{\\omega} \\frac{\\omega_{p,s}^2}{\\omega^2 - \\Omega_{c,s}^2} \\\\\n",
    "P &=& 1 - \\sum_s \\frac{\\omega_{p,s}^2}{\\omega^2}\n",
    "\\end{eqnarray}\n",
    "$$\n",
    "\n",
    "where $\\omega$ is the RF angular frequency ($\\omega=2\\pi f$) and $\\Omega_{c,s}$, $\\omega_{p,s}$ are the cyclotron and the plasma  angular frequencies respectively for the plasma species $s$. "
   ]
  },
  {
   "cell_type": "code",
   "execution_count": 14,
   "metadata": {},
   "outputs": [],
   "source": [
    "import sys\n",
    "# import the (git version of) PlasmaPy module which is not my global python path\n",
    "sys.path.append('../../PlasmaPy')\n",
    "from plasmapy.physics.dielectric import cold_plasma_permittivity_SDP\n",
    "from astropy import units as u\n",
    "from plasmapy.constants import pi"
   ]
  },
  {
   "cell_type": "code",
   "execution_count": 21,
   "metadata": {},
   "outputs": [
    {
     "name": "stdout",
     "output_type": "stream",
     "text": [
      "-8.661091784715325 31.754325333352067 -32254.33974279528\n"
     ]
    }
   ],
   "source": [
    "# RF angular Frequency\n",
    "omega_RF = 2*pi*50e6*(u.rad/u.s) # pay attention to the unit in rad/s!\n",
    "# Electron and ion density\n",
    "ns = [1e18, 1e18]/u.m**3\n",
    "# Magnetic field\n",
    "B0 = 2*u.T\n",
    "\n",
    "S, D, P = cold_plasma_permittivity_SDP(B=B0, species=['e', 'D+'], n=ns, omega=omega_RF)\n",
    "print(S, D, P)"
   ]
  }
 ],
 "metadata": {
  "kernelspec": {
   "display_name": "Python 3",
   "language": "python",
   "name": "python3"
  },
  "language_info": {
   "codemirror_mode": {
    "name": "ipython",
    "version": 3
   },
   "file_extension": ".py",
   "mimetype": "text/x-python",
   "name": "python",
   "nbconvert_exporter": "python",
   "pygments_lexer": "ipython3",
   "version": "3.6.4"
  }
 },
 "nbformat": 4,
 "nbformat_minor": 2
}
